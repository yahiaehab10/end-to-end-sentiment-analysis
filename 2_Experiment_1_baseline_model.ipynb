{
 "cells": [
  {
   "cell_type": "markdown",
   "id": "13779a7d",
   "metadata": {},
   "source": [
    "# Experiment (1) Baseline model"
   ]
  },
  {
   "cell_type": "code",
   "execution_count": 1,
   "id": "d48a8832",
   "metadata": {},
   "outputs": [],
   "source": [
    "import mlflow\n",
    "\n",
    "mlflow."
   ]
  }
 ],
 "metadata": {
  "kernelspec": {
   "display_name": "e2e",
   "language": "python",
   "name": "python3"
  },
  "language_info": {
   "codemirror_mode": {
    "name": "ipython",
    "version": 3
   },
   "file_extension": ".py",
   "mimetype": "text/x-python",
   "name": "python",
   "nbconvert_exporter": "python",
   "pygments_lexer": "ipython3",
   "version": "3.11.11"
  }
 },
 "nbformat": 4,
 "nbformat_minor": 5
}
