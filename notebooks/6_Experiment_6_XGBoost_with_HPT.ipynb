{
 "cells": [
  {
   "cell_type": "markdown",
   "id": "c9e879cd",
   "metadata": {},
   "source": [
    "# Experiment (4) XGBoost with HyperParam Tuning"
   ]
  },
  {
   "cell_type": "markdown",
   "id": "69ea18fc",
   "metadata": {},
   "source": [
    "Configuration"
   ]
  },
  {
   "cell_type": "code",
   "execution_count": 9,
   "id": "dd150c51",
   "metadata": {},
   "outputs": [
    {
     "data": {
      "text/plain": [
       "<Experiment: artifact_location='mlflow-artifacts:/67446475e5ed4f5caace8a4ebe9e8517', creation_time=1758369371939, experiment_id='4', last_update_time=1758369371939, lifecycle_stage='active', name='XGBoost with HyperParam Tuning', tags={}>"
      ]
     },
     "execution_count": 9,
     "metadata": {},
     "output_type": "execute_result"
    }
   ],
   "source": [
    "import mlflow\n",
    "import os\n",
    "\n",
    "# Set DagsHub credentials (you'll need to set these environment variables)\n",
    "os.environ[\"MLFLOW_TRACKING_USERNAME\"] = (\n",
    "    \"yahiaehab10\"  # Replace with your DagsHub username\n",
    ")\n",
    "os.environ[\"MLFLOW_TRACKING_PASSWORD\"] = (\n",
    "    \"b1e53999e80aecdcf2b9a9e6d0e2fea6ae02fa4c\"  # Replace with your DagsHub token\n",
    ")\n",
    "\n",
    "# Set the correct MLflow tracking URI for DagsHub\n",
    "mlflow.set_tracking_uri(\n",
    "    \"https://dagshub.com/yahiaehab10/end-to-end-sentiment-analysis.mlflow\"\n",
    ")\n",
    "\n",
    "# Set the experiment name\n",
    "mlflow.set_experiment(\"XGBoost with HyperParam Tuning\")"
   ]
  },
  {
   "cell_type": "markdown",
   "id": "03740fb2",
   "metadata": {},
   "source": [
    "## Experiment"
   ]
  },
  {
   "cell_type": "code",
   "execution_count": 10,
   "id": "35bdc57c",
   "metadata": {},
   "outputs": [],
   "source": [
    "\n",
    "import optuna\n",
    "\n",
    "import mlflow\n",
    "import mlflow.sklearn\n",
    "\n",
    "from sklearn.feature_extraction.text import TfidfVectorizer\n",
    "from sklearn.model_selection import train_test_split\n",
    "from sklearn.metrics import accuracy_score, classification_report\n",
    "from sklearn.linear_model import LogisticRegression\n",
    "from sklearn.svm import SVC\n",
    "from sklearn.neighbors import KNeighborsClassifier\n",
    "from sklearn.naive_bayes import MultinomialNB\n",
    "from sklearn.ensemble import RandomForestClassifier\n",
    "\n",
    "from xgboost import XGBClassifier\n",
    "\n",
    "from imblearn.over_sampling import SMOTE\n",
    "\n",
    "import matplotlib.pyplot as plt\n",
    "import seaborn as sns\n",
    "import pandas as pd"
   ]
  },
  {
   "cell_type": "code",
   "execution_count": 11,
   "id": "65b54a85",
   "metadata": {},
   "outputs": [
    {
     "data": {
      "text/html": [
       "<div>\n",
       "<style scoped>\n",
       "    .dataframe tbody tr th:only-of-type {\n",
       "        vertical-align: middle;\n",
       "    }\n",
       "\n",
       "    .dataframe tbody tr th {\n",
       "        vertical-align: top;\n",
       "    }\n",
       "\n",
       "    .dataframe thead th {\n",
       "        text-align: right;\n",
       "    }\n",
       "</style>\n",
       "<table border=\"1\" class=\"dataframe\">\n",
       "  <thead>\n",
       "    <tr style=\"text-align: right;\">\n",
       "      <th></th>\n",
       "      <th>clean_comment</th>\n",
       "      <th>category</th>\n",
       "    </tr>\n",
       "  </thead>\n",
       "  <tbody>\n",
       "    <tr>\n",
       "      <th>0</th>\n",
       "      <td>family mormon never tried explain still stare ...</td>\n",
       "      <td>1</td>\n",
       "    </tr>\n",
       "    <tr>\n",
       "      <th>1</th>\n",
       "      <td>buddhism much lot compatible christianity espe...</td>\n",
       "      <td>1</td>\n",
       "    </tr>\n",
       "    <tr>\n",
       "      <th>2</th>\n",
       "      <td>seriously say thing first get complex explain ...</td>\n",
       "      <td>-1</td>\n",
       "    </tr>\n",
       "    <tr>\n",
       "      <th>3</th>\n",
       "      <td>learned want teach different focus goal not wr...</td>\n",
       "      <td>0</td>\n",
       "    </tr>\n",
       "    <tr>\n",
       "      <th>4</th>\n",
       "      <td>benefit may want read living buddha living chr...</td>\n",
       "      <td>1</td>\n",
       "    </tr>\n",
       "  </tbody>\n",
       "</table>\n",
       "</div>"
      ],
      "text/plain": [
       "                                       clean_comment  category\n",
       "0  family mormon never tried explain still stare ...         1\n",
       "1  buddhism much lot compatible christianity espe...         1\n",
       "2  seriously say thing first get complex explain ...        -1\n",
       "3  learned want teach different focus goal not wr...         0\n",
       "4  benefit may want read living buddha living chr...         1"
      ]
     },
     "execution_count": 11,
     "metadata": {},
     "output_type": "execute_result"
    }
   ],
   "source": [
    "df = pd.read_csv(\"processed_reddit_data.csv\").dropna(subset=[\"clean_comment\"])\n",
    "df.head()"
   ]
  },
  {
   "cell_type": "code",
   "execution_count": 14,
   "id": "4abdcfac",
   "metadata": {},
   "outputs": [
    {
     "name": "stderr",
     "output_type": "stream",
     "text": [
      "/var/folders/j4/hqhlkt0j3wg3lzrb14sfs64h0000gn/T/ipykernel_31972/3762292830.py:2: SettingWithCopyWarning: \n",
      "A value is trying to be set on a copy of a slice from a DataFrame.\n",
      "Try using .loc[row_indexer,col_indexer] = value instead\n",
      "\n",
      "See the caveats in the documentation: https://pandas.pydata.org/pandas-docs/stable/user_guide/indexing.html#returning-a-view-versus-a-copy\n",
      "  df['category'] = df['category'].map({-1: 2, 0: 0, 1: 1})\n",
      "[I 2025-09-20 15:11:44,586] A new study created in memory with name: no-name-528cdbfb-2c9d-40be-8c05-3954a0bbe1ca\n",
      "[I 2025-09-20 15:11:47,769] Trial 0 finished with value: 0.9139387539598732 and parameters: {'n_estimators': 195, 'learning_rate': 0.25879315045514734, 'max_depth': 5}. Best is trial 0 with value: 0.9139387539598732.\n",
      "[I 2025-09-20 15:11:49,951] Trial 1 finished with value: 0.7247448081661387 and parameters: {'n_estimators': 64, 'learning_rate': 0.01200191778566759, 'max_depth': 5}. Best is trial 0 with value: 0.9139387539598732.\n",
      "[I 2025-09-20 15:11:58,582] Trial 2 finished with value: 0.8864836325237593 and parameters: {'n_estimators': 242, 'learning_rate': 0.06439568457374589, 'max_depth': 8}. Best is trial 0 with value: 0.9139387539598732.\n",
      "[I 2025-09-20 15:12:06,395] Trial 3 finished with value: 0.9376979936642027 and parameters: {'n_estimators': 298, 'learning_rate': 0.2546238945992379, 'max_depth': 9}. Best is trial 3 with value: 0.9376979936642027.\n",
      "[I 2025-09-20 15:12:11,311] Trial 4 finished with value: 0.9195705737416403 and parameters: {'n_estimators': 132, 'learning_rate': 0.21863720375984222, 'max_depth': 10}. Best is trial 3 with value: 0.9376979936642027.\n",
      "[I 2025-09-20 15:12:16,075] Trial 5 finished with value: 0.9253783878915874 and parameters: {'n_estimators': 235, 'learning_rate': 0.29828285453515213, 'max_depth': 5}. Best is trial 3 with value: 0.9376979936642027.\n",
      "[I 2025-09-20 15:12:18,807] Trial 6 finished with value: 0.8197817669834565 and parameters: {'n_estimators': 227, 'learning_rate': 0.0444309016625658, 'max_depth': 3}. Best is trial 3 with value: 0.9376979936642027.\n",
      "[I 2025-09-20 15:12:21,234] Trial 7 finished with value: 0.8350932770151355 and parameters: {'n_estimators': 93, 'learning_rate': 0.0874516250661446, 'max_depth': 5}. Best is trial 3 with value: 0.9376979936642027.\n",
      "[I 2025-09-20 15:12:30,934] Trial 8 finished with value: 0.8845476944737768 and parameters: {'n_estimators': 171, 'learning_rate': 0.06704151466864096, 'max_depth': 10}. Best is trial 3 with value: 0.9376979936642027.\n",
      "[I 2025-09-20 15:12:35,769] Trial 9 finished with value: 0.9237944385779655 and parameters: {'n_estimators': 164, 'learning_rate': 0.2342900661671538, 'max_depth': 9}. Best is trial 3 with value: 0.9376979936642027.\n",
      "[I 2025-09-20 15:12:42,485] Trial 10 finished with value: 0.9234424498416051 and parameters: {'n_estimators': 299, 'learning_rate': 0.1566685191382503, 'max_depth': 7}. Best is trial 3 with value: 0.9376979936642027.\n",
      "[I 2025-09-20 15:12:48,675] Trial 11 finished with value: 0.9357620556142203 and parameters: {'n_estimators': 300, 'learning_rate': 0.2854632198469157, 'max_depth': 7}. Best is trial 3 with value: 0.9376979936642027.\n",
      "[I 2025-09-20 15:12:56,197] Trial 12 finished with value: 0.9294262583597325 and parameters: {'n_estimators': 292, 'learning_rate': 0.1789398543905554, 'max_depth': 8}. Best is trial 3 with value: 0.9376979936642027.\n",
      "[I 2025-09-20 15:13:02,023] Trial 13 finished with value: 0.9334741288278775 and parameters: {'n_estimators': 267, 'learning_rate': 0.29728406992168377, 'max_depth': 7}. Best is trial 3 with value: 0.9376979936642027.\n",
      "[I 2025-09-20 15:13:09,450] Trial 14 finished with value: 0.9308342133051742 and parameters: {'n_estimators': 268, 'learning_rate': 0.20122507177456242, 'max_depth': 8}. Best is trial 3 with value: 0.9376979936642027.\n",
      "[I 2025-09-20 15:13:16,014] Trial 15 finished with value: 0.9334741288278775 and parameters: {'n_estimators': 205, 'learning_rate': 0.26206317836895043, 'max_depth': 9}. Best is trial 3 with value: 0.9376979936642027.\n",
      "[I 2025-09-20 15:13:22,383] Trial 16 finished with value: 0.9076029567053854 and parameters: {'n_estimators': 266, 'learning_rate': 0.13452070935946298, 'max_depth': 6}. Best is trial 3 with value: 0.9376979936642027.\n",
      "[I 2025-09-20 15:13:25,517] Trial 17 finished with value: 0.9104188665962689 and parameters: {'n_estimators': 299, 'learning_rate': 0.2598372133606132, 'max_depth': 3}. Best is trial 3 with value: 0.9376979936642027.\n",
      "[I 2025-09-20 15:13:31,062] Trial 18 finished with value: 0.8928194297782471 and parameters: {'n_estimators': 116, 'learning_rate': 0.13528292688881716, 'max_depth': 9}. Best is trial 3 with value: 0.9376979936642027.\n",
      "[I 2025-09-20 15:13:36,482] Trial 19 finished with value: 0.9274903203097501 and parameters: {'n_estimators': 254, 'learning_rate': 0.23671658590703817, 'max_depth': 6}. Best is trial 3 with value: 0.9376979936642027.\n"
     ]
    },
    {
     "name": "stdout",
     "output_type": "stream",
     "text": [
      "Best trial:\n",
      "  Value: 0.9376979936642027\n",
      "  Params: \n",
      "    n_estimators: 298\n",
      "    learning_rate: 0.2546238945992379\n",
      "    max_depth: 9\n",
      "🏃 View run XGBoost_Optuna at: https://dagshub.com/yahiaehab10/end-to-end-sentiment-analysis.mlflow/#/experiments/4/runs/d0044864d80841ca8c076a9ed07eb6aa\n",
      "🧪 View experiment at: https://dagshub.com/yahiaehab10/end-to-end-sentiment-analysis.mlflow/#/experiments/4\n"
     ]
    },
    {
     "ename": "AttributeError",
     "evalue": "'str' object has no attribute 'items'",
     "output_type": "error",
     "traceback": [
      "\u001b[31m---------------------------------------------------------------------------\u001b[39m",
      "\u001b[31mAttributeError\u001b[39m                            Traceback (most recent call last)",
      "\u001b[36mCell\u001b[39m\u001b[36m \u001b[39m\u001b[32mIn[14]\u001b[39m\u001b[32m, line 87\u001b[39m\n\u001b[32m     80\u001b[39m     best_model = XGBClassifier(\n\u001b[32m     81\u001b[39m         n_estimators=trial.params[\u001b[33m\"\u001b[39m\u001b[33mn_estimators\u001b[39m\u001b[33m\"\u001b[39m],\n\u001b[32m     82\u001b[39m         learning_rate=trial.params[\u001b[33m\"\u001b[39m\u001b[33mlearning_rate\u001b[39m\u001b[33m\"\u001b[39m],\n\u001b[32m     83\u001b[39m         max_depth=trial.params[\u001b[33m\"\u001b[39m\u001b[33mmax_depth\u001b[39m\u001b[33m\"\u001b[39m],\n\u001b[32m     84\u001b[39m     )\n\u001b[32m     85\u001b[39m     log_mlflow(\u001b[33m\"\u001b[39m\u001b[33mXGBoost_Optuna\u001b[39m\u001b[33m\"\u001b[39m, best_model, X_train_vec, X_test_tfidf, y_train, y_test)\n\u001b[32m---> \u001b[39m\u001b[32m87\u001b[39m \u001b[43mrun_optuna_experiment\u001b[49m\u001b[43m(\u001b[49m\u001b[43m)\u001b[49m\n",
      "\u001b[36mCell\u001b[39m\u001b[36m \u001b[39m\u001b[32mIn[14]\u001b[39m\u001b[32m, line 85\u001b[39m, in \u001b[36mrun_optuna_experiment\u001b[39m\u001b[34m()\u001b[39m\n\u001b[32m     79\u001b[39m \u001b[38;5;66;03m# Log the best model to MLflow\u001b[39;00m\n\u001b[32m     80\u001b[39m best_model = XGBClassifier(\n\u001b[32m     81\u001b[39m     n_estimators=trial.params[\u001b[33m\"\u001b[39m\u001b[33mn_estimators\u001b[39m\u001b[33m\"\u001b[39m],\n\u001b[32m     82\u001b[39m     learning_rate=trial.params[\u001b[33m\"\u001b[39m\u001b[33mlearning_rate\u001b[39m\u001b[33m\"\u001b[39m],\n\u001b[32m     83\u001b[39m     max_depth=trial.params[\u001b[33m\"\u001b[39m\u001b[33mmax_depth\u001b[39m\u001b[33m\"\u001b[39m],\n\u001b[32m     84\u001b[39m )\n\u001b[32m---> \u001b[39m\u001b[32m85\u001b[39m \u001b[43mlog_mlflow\u001b[49m\u001b[43m(\u001b[49m\u001b[33;43m\"\u001b[39;49m\u001b[33;43mXGBoost_Optuna\u001b[39;49m\u001b[33;43m\"\u001b[39;49m\u001b[43m,\u001b[49m\u001b[43m \u001b[49m\u001b[43mbest_model\u001b[49m\u001b[43m,\u001b[49m\u001b[43m \u001b[49m\u001b[43mX_train_vec\u001b[49m\u001b[43m,\u001b[49m\u001b[43m \u001b[49m\u001b[43mX_test_tfidf\u001b[49m\u001b[43m,\u001b[49m\u001b[43m \u001b[49m\u001b[43my_train\u001b[49m\u001b[43m,\u001b[49m\u001b[43m \u001b[49m\u001b[43my_test\u001b[49m\u001b[43m)\u001b[49m\n",
      "\u001b[36mCell\u001b[39m\u001b[36m \u001b[39m\u001b[32mIn[14]\u001b[39m\u001b[32m, line 29\u001b[39m, in \u001b[36mlog_mlflow\u001b[39m\u001b[34m(model_name, model, X_train, X_test, y_train, y_test)\u001b[39m\n\u001b[32m     26\u001b[39m \u001b[38;5;28;01mdef\u001b[39;00m\u001b[38;5;250m \u001b[39m\u001b[34mlog_mlflow\u001b[39m(model_name, model, X_train, X_test, y_train, y_test):\n\u001b[32m     27\u001b[39m     \u001b[38;5;28;01mwith\u001b[39;00m mlflow.start_run(run_name=model_name):\n\u001b[32m     28\u001b[39m         \u001b[38;5;66;03m# Set tags\u001b[39;00m\n\u001b[32m---> \u001b[39m\u001b[32m29\u001b[39m         \u001b[43mmlflow\u001b[49m\u001b[43m.\u001b[49m\u001b[43mset_tags\u001b[49m\u001b[43m(\u001b[49m\u001b[33;43m\"\u001b[39;49m\u001b[33;43mmlflow.runName\u001b[39;49m\u001b[33;43m\"\u001b[39;49m\u001b[43m,\u001b[49m\u001b[43m \u001b[49m\u001b[43mmodel_name\u001b[49m\u001b[43m)\u001b[49m\n\u001b[32m     30\u001b[39m         mlflow.set_tags(\u001b[33m\"\u001b[39m\u001b[33mexperiment\u001b[39m\u001b[33m\"\u001b[39m, \u001b[33m\"\u001b[39m\u001b[33malgorithm_comparison\u001b[39m\u001b[33m\"\u001b[39m)\n\u001b[32m     32\u001b[39m         \u001b[38;5;66;03m# Log algorithm name as a parameter\u001b[39;00m\n",
      "\u001b[36mFile \u001b[39m\u001b[32m~/miniconda3/envs/e2e/lib/python3.11/site-packages/mlflow/tracking/fluent.py:1132\u001b[39m, in \u001b[36mset_tags\u001b[39m\u001b[34m(tags, synchronous)\u001b[39m\n\u001b[32m   1094\u001b[39m \u001b[38;5;250m\u001b[39m\u001b[33;03m\"\"\"\u001b[39;00m\n\u001b[32m   1095\u001b[39m \u001b[33;03mLog a batch of tags for the current run. If no run is active, this method will create a\u001b[39;00m\n\u001b[32m   1096\u001b[39m \u001b[33;03mnew active run.\u001b[39;00m\n\u001b[32m   (...)\u001b[39m\u001b[32m   1129\u001b[39m \u001b[33;03m        mlflow.set_tags(tags, synchronous=False)\u001b[39;00m\n\u001b[32m   1130\u001b[39m \u001b[33;03m\"\"\"\u001b[39;00m\n\u001b[32m   1131\u001b[39m run_id = _get_or_start_run().info.run_id\n\u001b[32m-> \u001b[39m\u001b[32m1132\u001b[39m tags_arr = [RunTag(key, \u001b[38;5;28mstr\u001b[39m(value)) \u001b[38;5;28;01mfor\u001b[39;00m key, value \u001b[38;5;129;01min\u001b[39;00m \u001b[43mtags\u001b[49m\u001b[43m.\u001b[49m\u001b[43mitems\u001b[49m()]\n\u001b[32m   1133\u001b[39m synchronous = synchronous \u001b[38;5;28;01mif\u001b[39;00m synchronous \u001b[38;5;129;01mis\u001b[39;00m \u001b[38;5;129;01mnot\u001b[39;00m \u001b[38;5;28;01mNone\u001b[39;00m \u001b[38;5;28;01melse\u001b[39;00m \u001b[38;5;129;01mnot\u001b[39;00m MLFLOW_ENABLE_ASYNC_LOGGING.get()\n\u001b[32m   1134\u001b[39m \u001b[38;5;28;01mreturn\u001b[39;00m MlflowClient().log_batch(\n\u001b[32m   1135\u001b[39m     run_id=run_id, metrics=[], params=[], tags=tags_arr, synchronous=synchronous\n\u001b[32m   1136\u001b[39m )\n",
      "\u001b[31mAttributeError\u001b[39m: 'str' object has no attribute 'items'"
     ]
    }
   ],
   "source": [
    "# 1. Remap the class labels\n",
    "df['category'] = df['category'].map({-1: 2, 0: 0, 1: 1})\n",
    "    \n",
    "# 2. Remove rows where targets are NaN\n",
    "df = df.dropna(subset=['category'])\n",
    "\n",
    "# 3. Define n-gram range and max features\n",
    "ngram_range = (1, 3)\n",
    "max_features = 10000\n",
    "\n",
    "# 4. Train test split\n",
    "X_train, X_test, y_train, y_test = train_test_split(\n",
    "    df['clean_comment'], df['category'], test_size=0.2, random_state=42, stratify=df['category']\n",
    ")\n",
    "\n",
    "# 5. Initialize TF-IDF Vectorizer\n",
    "vectorizer = TfidfVectorizer(ngram_range=ngram_range, max_features=max_features)\n",
    "X_train_tfidf = vectorizer.fit_transform(X_train)\n",
    "X_test_tfidf = vectorizer.transform(X_test)\n",
    "\n",
    "# 6. Initialize SMOTE\n",
    "smote = SMOTE(random_state=42)\n",
    "X_train_vec, y_train = smote.fit_resample(X_train_tfidf, y_train)\n",
    "\n",
    "# 7. Log to MLflow\n",
    "def log_mlflow(model_name, model, X_train, X_test, y_train, y_test):\n",
    "    with mlflow.start_run(run_name=model_name):\n",
    "        # Set tags\n",
    "        mlflow.set_tags(\"mlflow.runName\", model_name)\n",
    "        mlflow.set_tags(\"experiment\", \"algorithm_comparison\")\n",
    "\n",
    "        # Log algorithm name as a parameter\n",
    "        mlflow.log_param(\"algorithm\", model_name)\n",
    "\n",
    "        # Train the model\n",
    "        model.fit(X_train, y_train)\n",
    "        y_pred = model.predict(X_test)\n",
    "\n",
    "        # Calculate accuracy\n",
    "        accuracy = accuracy_score(y_test, y_pred)\n",
    "        mlflow.log_metric(\"accuracy\", accuracy)\n",
    "\n",
    "        # Log classification report\n",
    "        classification_rep = classification_report(y_test, y_pred, output_dict=True)\n",
    "        for label, metrics in classification_rep.items():\n",
    "            if label not in ['accuracy', 'macro avg', 'weighted avg'] and isinstance(metrics, dict):\n",
    "                for metric_name, metric_value in metrics.items():\n",
    "                    mlflow.log_metric(f\"{label}_{metric_name}\", metric_value)\n",
    "\n",
    "        # Log model\n",
    "        mlflow.sklearn.log_model(model, \"model\")\n",
    "\n",
    "\n",
    "# 8. Optuna objective function\n",
    "def objective_xgboost(trial):\n",
    "    n_estimators = trial.suggest_int(\"n_estimators\", 50, 300)\n",
    "    learning_rate = trial.suggest_float(\"learning_rate\", 0.01, 0.3)\n",
    "    max_depth = trial.suggest_int(\"max_depth\", 3, 10)\n",
    "\n",
    "    model = XGBClassifier(\n",
    "        n_estimators=n_estimators,\n",
    "        learning_rate=learning_rate,\n",
    "        max_depth=max_depth,\n",
    "    )\n",
    "    return accuracy_score(y_test, model.fit(X_train_vec, y_train).predict(X_test_tfidf))\n",
    "\n",
    "# 9. Run Optuna study\n",
    "def run_optuna_experiment():\n",
    "    study = optuna.create_study(direction=\"maximize\")\n",
    "    study.optimize(objective_xgboost, n_trials=20)\n",
    "\n",
    "    print(\"Best trial:\")\n",
    "    trial = study.best_trial\n",
    "    print(f\"  Value: {trial.value}\")\n",
    "    print(\"  Params: \")\n",
    "    for key, value in trial.params.items():\n",
    "        print(f\"    {key}: {value}\")\n",
    "\n",
    "    # Log the best model to MLflow\n",
    "    best_model = XGBClassifier(\n",
    "        n_estimators=trial.params[\"n_estimators\"],\n",
    "        learning_rate=trial.params[\"learning_rate\"],\n",
    "        max_depth=trial.params[\"max_depth\"],\n",
    "    )\n",
    "    log_mlflow(\"XGBoost_Optuna\", best_model, X_train_vec, X_test_tfidf, y_train, y_test)\n",
    "\n",
    "run_optuna_experiment()"
   ]
  }
 ],
 "metadata": {
  "kernelspec": {
   "display_name": "e2e",
   "language": "python",
   "name": "python3"
  },
  "language_info": {
   "codemirror_mode": {
    "name": "ipython",
    "version": 3
   },
   "file_extension": ".py",
   "mimetype": "text/x-python",
   "name": "python",
   "nbconvert_exporter": "python",
   "pygments_lexer": "ipython3",
   "version": "3.11.11"
  }
 },
 "nbformat": 4,
 "nbformat_minor": 5
}
